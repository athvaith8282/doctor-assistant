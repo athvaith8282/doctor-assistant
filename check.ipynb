{
 "cells": [
  {
   "cell_type": "code",
   "execution_count": 1,
   "id": "be6c7805",
   "metadata": {},
   "outputs": [
    {
     "data": {
      "text/plain": [
       "True"
      ]
     },
     "execution_count": 1,
     "metadata": {},
     "output_type": "execute_result"
    }
   ],
   "source": [
    "from dotenv import load_dotenv\n",
    "load_dotenv()"
   ]
  },
  {
   "cell_type": "code",
   "execution_count": 3,
   "id": "6fb9cdbe",
   "metadata": {},
   "outputs": [
    {
     "name": "stdout",
     "output_type": "stream",
     "text": [
      "Loaded 12 tools: ['create_gmail_draft', 'send_gmail_message', 'search_gmail', 'get_gmail_message', 'get_gmail_thread', 'create_calendar_event', 'search_events', 'update_calendar_event', 'get_calendars_info', 'move_calendar_event', 'delete_calendar_event', 'get_current_datetime']\n"
     ]
    }
   ],
   "source": [
    "from langchain_openai import ChatOpenAI\n",
    "from langchain.agents import create_agent\n",
    "from my_tools import get_tools\n",
    "from config import SYSTEM_PROMPT\n",
    "from datetime import datetime\n",
    "\n",
    "my_tools = get_tools()\n",
    "\n",
    "llm = ChatOpenAI(model=\"gpt-4o\")\n",
    "agent = create_agent(\n",
    "    model=llm,\n",
    "    tools=my_tools,\n",
    "    system_prompt=f'''You are a helpful personal assistant. Today date is {datetime.now().strftime(\"%Y-%m-%d\")}'''\n",
    ")"
   ]
  },
  {
   "cell_type": "code",
   "execution_count": 4,
   "id": "f2d6303b",
   "metadata": {},
   "outputs": [
    {
     "data": {
      "text/plain": [
       "[GmailCreateDraft(api_resource=<googleapiclient.discovery.Resource object at 0x123c1a350>),\n",
       " GmailSendMessage(api_resource=<googleapiclient.discovery.Resource object at 0x123c1a350>),\n",
       " GmailSearch(api_resource=<googleapiclient.discovery.Resource object at 0x123c1a350>),\n",
       " GmailGetMessage(api_resource=<googleapiclient.discovery.Resource object at 0x123c1a350>),\n",
       " GmailGetThread(api_resource=<googleapiclient.discovery.Resource object at 0x123c1a350>),\n",
       " CalendarCreateEvent(api_resource=<googleapiclient.discovery.Resource object at 0x123c6fb90>),\n",
       " CalendarSearchEvents(api_resource=<googleapiclient.discovery.Resource object at 0x123c6fb90>),\n",
       " CalendarUpdateEvent(api_resource=<googleapiclient.discovery.Resource object at 0x123c6fb90>),\n",
       " GetCalendarsInfo(api_resource=<googleapiclient.discovery.Resource object at 0x123c6fb90>),\n",
       " CalendarMoveEvent(api_resource=<googleapiclient.discovery.Resource object at 0x123c6fb90>),\n",
       " CalendarDeleteEvent(api_resource=<googleapiclient.discovery.Resource object at 0x123c6fb90>),\n",
       " GetCurrentDatetime(api_resource=<googleapiclient.discovery.Resource object at 0x123c6fb90>)]"
      ]
     },
     "execution_count": 4,
     "metadata": {},
     "output_type": "execute_result"
    }
   ],
   "source": [
    "my_tools"
   ]
  },
  {
   "cell_type": "code",
   "execution_count": 5,
   "id": "2529b9c1",
   "metadata": {},
   "outputs": [],
   "source": [
    "cal_create_event = my_tools[5]"
   ]
  },
  {
   "cell_type": "code",
   "execution_count": 8,
   "id": "e8581ba0",
   "metadata": {},
   "outputs": [
    {
     "data": {
      "text/plain": [
       "'Event created: https://www.google.com/calendar/event?eid=aHBmbTdyNDNsNGcwdGx2am1yaWtlbjU2dWsgYXRodmFpdGgua0Bt'"
      ]
     },
     "execution_count": 8,
     "metadata": {},
     "output_type": "execute_result"
    }
   ],
   "source": [
    "cal_create_event.invoke(\n",
    "    {\n",
    "        \"summary\": \"Calculus exam\",\n",
    "        \"start_datetime\": \"2025-10-29 11:00:00\",\n",
    "        \"end_datetime\": \"2025-10-29 13:00:00\",\n",
    "        \"timezone\": \"America/Mexico_City\",\n",
    "        \"location\": \"UAM Cuajimalpa\",\n",
    "        \"attendees\": [\"athvaith2828@gmail.com\"],\n",
    "        \"description\": \"Event created from the LangChain toolkit\",\n",
    "        \"reminders\": [{\"method\": \"popup\", \"minutes\": 60}],\n",
    "        \"conference_data\": True,\n",
    "        \"color_id\": \"5\",\n",
    "    }\n",
    ")"
   ]
  },
  {
   "cell_type": "code",
   "execution_count": 12,
   "id": "6b06b9ef",
   "metadata": {},
   "outputs": [],
   "source": [
    "cal_search_events = my_tools[6] "
   ]
  },
  {
   "cell_type": "code",
   "execution_count": 13,
   "id": "64ee121f",
   "metadata": {},
   "outputs": [
    {
     "data": {
      "text/plain": [
       "CalendarSearchEvents(api_resource=<googleapiclient.discovery.Resource object at 0x123c6fb90>)"
      ]
     },
     "execution_count": 13,
     "metadata": {},
     "output_type": "execute_result"
    }
   ],
   "source": [
    "cal_search_events"
   ]
  },
  {
   "cell_type": "code",
   "execution_count": 14,
   "id": "d58d7ca3",
   "metadata": {},
   "outputs": [],
   "source": [
    "from langchain_google_community.calendar.search_events import CalendarSearchEvents"
   ]
  },
  {
   "cell_type": "code",
   "execution_count": 17,
   "id": "3bd290c8",
   "metadata": {},
   "outputs": [
    {
     "name": "stdout",
     "output_type": "stream",
     "text": [
      "[{\"id\": \"en.indian#holiday@group.v.calendar.google.com\", \"summary\": \"Holidays in India\", \"timeZone\": \"UTC\"}, {\"id\": \"athvaith.k@gmail.com\", \"summary\": \"athvaith.k@gmail.com\", \"timeZone\": \"UTC\"}]\n"
     ]
    },
    {
     "data": {
      "text/plain": [
       "[{'id': 'hpfm7r43l4g0tlvjmriken56uk',\n",
       "  'htmlLink': 'https://www.google.com/calendar/event?eid=aHBmbTdyNDNsNGcwdGx2am1yaWtlbjU2dWsgYXRodmFpdGgua0Bt',\n",
       "  'summary': 'Calculus exam',\n",
       "  'creator': 'athvaith.k@gmail.com',\n",
       "  'organizer': 'athvaith.k@gmail.com',\n",
       "  'start': '2025-10-29T17:00:00Z',\n",
       "  'end': '2025-10-29T19:00:00Z'}]"
      ]
     },
     "execution_count": 17,
     "metadata": {},
     "output_type": "execute_result"
    }
   ],
   "source": [
    "# Get calendars info first\n",
    "get_calendars_info = my_tools[8]  # GetCalendarsInfo tool\n",
    "calendars_info = get_calendars_info.invoke({})\n",
    "\n",
    "print(calendars_info)\n",
    "\n",
    "# Now search events with calendars_info\n",
    "cal_search_events.invoke(\n",
    "    {\n",
    "        \"min_datetime\": \"2025-10-29 00:00:00\",\n",
    "        \"max_datetime\": \"2025-10-29 22:00:00\",\n",
    "        \"calendars_info\": calendars_info\n",
    "    }\n",
    ")\n"
   ]
  },
  {
   "cell_type": "code",
   "execution_count": 19,
   "id": "163f14db",
   "metadata": {},
   "outputs": [
    {
     "data": {
      "text/plain": [
       "'[{\"id\": \"en.indian#holiday@group.v.calendar.google.com\", \"summary\": \"Holidays in India\", \"timeZone\": \"UTC\"}, {\"id\": \"athvaith.k@gmail.com\", \"summary\": \"athvaith.k@gmail.com\", \"timeZone\": \"UTC\"}]'"
      ]
     },
     "execution_count": 19,
     "metadata": {},
     "output_type": "execute_result"
    }
   ],
   "source": [
    "from langchain_google_community.calendar.get_calendars_info import GetCalendarsInfo\n",
    "get_calendars_info = GetCalendarsInfo()\n",
    "get_calendars_info.invoke({})\n"
   ]
  },
  {
   "cell_type": "code",
   "execution_count": 26,
   "id": "a0c8798d",
   "metadata": {},
   "outputs": [
    {
     "name": "stdout",
     "output_type": "stream",
     "text": [
      "[{\"id\": \"athvaith.k@gmail.com\", \"summary\": \"athvaith.k@gmail.com\", \"timeZone\": \"UTC\"}]\n"
     ]
    },
    {
     "data": {
      "text/plain": [
       "[{'id': '2s6f7p4sopqautqngt9imaippa',\n",
       "  'htmlLink': 'https://www.google.com/calendar/event?eid=MnM2ZjdwNHNvcHFhdXRxbmd0OWltYWlwcGEgYXRodmFpdGgua0Bt',\n",
       "  'summary': 'Summa event',\n",
       "  'creator': 'athvaith.k@gmail.com',\n",
       "  'organizer': 'athvaith.k@gmail.com',\n",
       "  'start': '2025-10-29T10:00:00Z',\n",
       "  'end': '2025-10-29T11:00:00Z'}]"
      ]
     },
     "execution_count": 26,
     "metadata": {},
     "output_type": "execute_result"
    }
   ],
   "source": [
    "# CORRECTED: Get calendars info and filter to personal calendar\n",
    "get_calendars_info = my_tools[8]  # GetCalendarsInfo tool\n",
    "calendars_info = get_calendars_info.invoke({})\n",
    "\n",
    "print(calendars_info)\n",
    "\n",
    "# Now search events with your personal calendar only\n",
    "cal_search_events.invoke(\n",
    "    {\n",
    "        \"min_datetime\": \"2025-10-29 00:00:00\",\n",
    "        \"max_datetime\": \"2025-10-29 22:00:00\",\n",
    "        \"calendars_info\": calendars_info  # Pass calendar object, not just email string\n",
    "    }\n",
    ")"
   ]
  },
  {
   "cell_type": "code",
   "execution_count": null,
   "id": "21699327",
   "metadata": {},
   "outputs": [],
   "source": [
    "from langchain_google_community.gmail.send_message import GmailSendMessage\n",
    "gmail_send_message = GmailSendMessage()\n",
    "gmail_send_message.invoke({\n",
    "    \"message\": \"Hello, world!\"\n",
    "})"
   ]
  }
 ],
 "metadata": {
  "kernelspec": {
   "display_name": ".venv",
   "language": "python",
   "name": "python3"
  },
  "language_info": {
   "codemirror_mode": {
    "name": "ipython",
    "version": 3
   },
   "file_extension": ".py",
   "mimetype": "text/x-python",
   "name": "python",
   "nbconvert_exporter": "python",
   "pygments_lexer": "ipython3",
   "version": "3.11.10"
  }
 },
 "nbformat": 4,
 "nbformat_minor": 5
}
